{
 "metadata": {
  "name": "output_fit_quality"
 }, 
 "nbformat": 2, 
 "worksheets": [
  {
   "cells": [
    {
     "cell_type": "code", 
     "collapsed": false, 
     "input": [
      "import pandas"
     ], 
     "language": "python", 
     "outputs": [], 
     "prompt_number": 68
    }, 
    {
     "cell_type": "code", 
     "collapsed": true, 
     "input": [
      "from scipy.io import loadmat"
     ], 
     "language": "python", 
     "outputs": [], 
     "prompt_number": 69
    }, 
    {
     "cell_type": "code", 
     "collapsed": true, 
     "input": [
      "fit = loadmat('output-compare.mat')"
     ], 
     "language": "python", 
     "outputs": [], 
     "prompt_number": 70
    }, 
    {
     "cell_type": "code", 
     "collapsed": true, 
     "input": [
      "import numpy as np"
     ], 
     "language": "python", 
     "outputs": [], 
     "prompt_number": 71
    }, 
    {
     "cell_type": "code", 
     "collapsed": false, 
     "input": [
      "fit['fits'][fit['fits'] < -100.] = np.nan"
     ], 
     "language": "python", 
     "outputs": [], 
     "prompt_number": 79
    }, 
    {
     "cell_type": "code", 
     "collapsed": false, 
     "input": [
      "p = pandas.Panel(fit['fits'],", 
      "                 items=[str(x[0]) for x in fit['goodRuns']],", 
      "                 major_axis=[str(x[0][0]) for x in fit['models']],", 
      "                 minor_axis=['phi', 'delta', 'phiDot', 'deltaDot'])"
     ], 
     "language": "python", 
     "outputs": [], 
     "prompt_number": 80
    }, 
    {
     "cell_type": "code", 
     "collapsed": false, 
     "input": [
      "p.median('items')"
     ], 
     "language": "python", 
     "outputs": [
      {
       "html": [
        "<div style=\"max-height:1000px;max-width:1500px;overflow:auto;\"><table border=\"1\">", 
        "  <thead>", 
        "    <tr>", 
        "      <th></th>", 
        "      <th>phi</th>", 
        "      <th>delta</th>", 
        "      <th>phiDot</th>", 
        "      <th>deltaDot</th>", 
        "    </tr>", 
        "    </thead>", 
        "    <tbody>", 
        "    <tr>", 
        "      <td><strong>AA</strong></td>", 
        "      <td> 28.586564</td>", 
        "      <td> 61.829353</td>", 
        "      <td> 51.759823</td>", 
        "      <td> 65.219435</td>", 
        "    </tr>", 
        "    <tr>", 
        "      <td><strong>CH</strong></td>", 
        "      <td> 18.608480</td>", 
        "      <td> 57.223861</td>", 
        "      <td> 52.563980</td>", 
        "      <td> 62.246685</td>", 
        "    </tr>", 
        "    <tr>", 
        "      <td><strong>LA</strong></td>", 
        "      <td> 29.364507</td>", 
        "      <td> 59.833952</td>", 
        "      <td> 52.863237</td>", 
        "      <td> 67.878060</td>", 
        "    </tr>", 
        "    <tr>", 
        "      <td><strong>AH</strong></td>", 
        "      <td> 24.056103</td>", 
        "      <td> 57.442720</td>", 
        "      <td> 43.053740</td>", 
        "      <td> 64.195863</td>", 
        "    </tr>", 
        "    <tr>", 
        "      <td><strong>CA</strong></td>", 
        "      <td> 14.948074</td>", 
        "      <td> 54.456589</td>", 
        "      <td> 51.737503</td>", 
        "      <td> 59.824396</td>", 
        "    </tr>", 
        "    <tr>", 
        "      <td><strong>JP</strong></td>", 
        "      <td> -3.383128</td>", 
        "      <td> 35.367542</td>", 
        "      <td> 34.120383</td>", 
        "      <td> 61.687709</td>", 
        "    </tr>", 
        "    <tr>", 
        "      <td><strong>LH</strong></td>", 
        "      <td> 24.267299</td>", 
        "      <td> 57.696878</td>", 
        "      <td> 46.101644</td>", 
        "      <td> 65.744129</td>", 
        "    </tr>", 
        "    <tr>", 
        "      <td><strong>AP</strong></td>", 
        "      <td> 29.681311</td>", 
        "      <td> 58.945700</td>", 
        "      <td> 60.580321</td>", 
        "      <td> 63.150945</td>", 
        "    </tr>", 
        "    <tr>", 
        "      <td><strong>JH</strong></td>", 
        "      <td> 22.824952</td>", 
        "      <td> 53.607692</td>", 
        "      <td> 42.001644</td>", 
        "      <td> 62.809283</td>", 
        "    </tr>", 
        "    <tr>", 
        "      <td><strong>LP</strong></td>", 
        "      <td> 38.171402</td>", 
        "      <td> 62.817539</td>", 
        "      <td> 60.881889</td>", 
        "      <td> 68.417368</td>", 
        "    </tr>", 
        "    <tr>", 
        "      <td><strong>CP</strong></td>", 
        "      <td> 18.956944</td>", 
        "      <td> 45.969769</td>", 
        "      <td> 41.956607</td>", 
        "      <td> 47.144847</td>", 
        "    </tr>", 
        "    <tr>", 
        "      <td><strong>JA</strong></td>", 
        "      <td> 27.923014</td>", 
        "      <td> 60.958458</td>", 
        "      <td> 49.445585</td>", 
        "      <td> 65.924937</td>", 
        "    </tr>", 
        "    <tr>", 
        "      <td><strong>Whipple</strong></td>", 
        "      <td>-20.998506</td>", 
        "      <td> 10.329535</td>", 
        "      <td>  5.819532</td>", 
        "      <td> 12.161387</td>", 
        "    </tr>", 
        "    <tr>", 
        "      <td><strong>Arm</strong></td>", 
        "      <td>-33.085102</td>", 
        "      <td> 19.612481</td>", 
        "      <td> 29.721993</td>", 
        "      <td> 33.063081</td>", 
        "    </tr>", 
        "  </tbody>", 
        "</table>", 
        "</div>"
       ], 
       "output_type": "pyout", 
       "prompt_number": 83, 
       "text": [
        "               phi      delta     phiDot   deltaDot", 
        "AA       28.586564  61.829353  51.759823  65.219435", 
        "CH       18.608480  57.223861  52.563980  62.246685", 
        "LA       29.364507  59.833952  52.863237  67.878060", 
        "AH       24.056103  57.442720  43.053740  64.195863", 
        "CA       14.948074  54.456589  51.737503  59.824396", 
        "JP       -3.383128  35.367542  34.120383  61.687709", 
        "LH       24.267299  57.696878  46.101644  65.744129", 
        "AP       29.681311  58.945700  60.580321  63.150945", 
        "JH       22.824952  53.607692  42.001644  62.809283", 
        "LP       38.171402  62.817539  60.881889  68.417368", 
        "CP       18.956944  45.969769  41.956607  47.144847", 
        "JA       27.923014  60.958458  49.445585  65.924937", 
        "Whipple -20.998506  10.329535   5.819532  12.161387", 
        "Arm     -33.085102  19.612481  29.721993  33.063081"
       ]
      }
     ], 
     "prompt_number": 83
    }, 
    {
     "cell_type": "code", 
     "collapsed": false, 
     "input": [
      "p.median('items').median(1)"
     ], 
     "language": "python", 
     "outputs": [
      {
       "output_type": "pyout", 
       "prompt_number": 81, 
       "text": [
        "AA         56.794588", 
        "CH         54.893921", 
        "LA         56.348594", 
        "AH         50.248230", 
        "CA         53.097046", 
        "JP         34.743962", 
        "LH         51.899261", 
        "AP         59.763011", 
        "JH         47.804668", 
        "LP         61.849714", 
        "CP         43.963188", 
        "JA         55.202021", 
        "Whipple     8.074533", 
        "Arm        24.667237"
       ]
      }
     ], 
     "prompt_number": 81
    }, 
    {
     "cell_type": "code", 
     "collapsed": true, 
     "input": [], 
     "language": "python", 
     "outputs": [], 
     "prompt_number": 87
    }, 
    {
     "cell_type": "code", 
     "collapsed": true, 
     "input": [], 
     "language": "python", 
     "outputs": [], 
     "prompt_number": "&nbsp;"
    }
   ]
  }
 ]
}